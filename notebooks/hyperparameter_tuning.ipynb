{
 "cells": [
  {
   "cell_type": "markdown",
   "id": "6e00b6de",
   "metadata": {},
   "source": [
    "Hyperparameter Tuning"
   ]
  },
  {
   "cell_type": "code",
   "execution_count": 1,
   "id": "b4d69d9b",
   "metadata": {},
   "outputs": [],
   "source": [
    "from sklearn.model_selection import GridSearchCV, RandomizedSearchCV\n",
    "from sklearn.ensemble import RandomForestClassifier\n",
    "from sklearn.svm import SVC\n",
    "from sklearn.metrics import accuracy_score, f1_score\n",
    "import numpy as np"
   ]
  },
  {
   "cell_type": "code",
   "execution_count": 2,
   "id": "3f92b8c9",
   "metadata": {},
   "outputs": [],
   "source": [
    "import pandas as pd\n",
    "df_clean = pd.read_csv(\"cleaned_scaled.csv\")\n",
    "# Features and target\n",
    "X = df_clean.drop(\"target\", axis=1)   \n",
    "y = df_clean[\"target\"]\n",
    "from sklearn.model_selection import train_test_split\n",
    "\n",
    "X_train, X_test, y_train, y_test = train_test_split(X, y, test_size=0.2, random_state=42, stratify=y)"
   ]
  },
  {
   "cell_type": "markdown",
   "id": "c3c2f952",
   "metadata": {},
   "source": [
    "Baseline Models"
   ]
  },
  {
   "cell_type": "code",
   "execution_count": 3,
   "id": "ccee8479",
   "metadata": {},
   "outputs": [],
   "source": [
    "rf_base = RandomForestClassifier(random_state=42)\n",
    "svm_base = SVC(probability=True, random_state=42)\n",
    "rf_base.fit(X_train, y_train)\n",
    "svm_base.fit(X_train, y_train)\n",
    "y_pred_rf_base = rf_base.predict(X_test)\n",
    "y_pred_svm_base = svm_base.predict(X_test)"
   ]
  },
  {
   "cell_type": "code",
   "execution_count": 4,
   "id": "ed21cc96",
   "metadata": {},
   "outputs": [
    {
     "name": "stdout",
     "output_type": "stream",
     "text": [
      "Baseline RF Accuracy: 0.5489130434782609\n",
      "Baseline RF F1 (macro): 0.3915145707405769\n",
      "Baseline SVM Accuracy: 0.5489130434782609\n",
      "Baseline SVM F1 (macro): 0.2798901035107403\n"
     ]
    }
   ],
   "source": [
    "print(\"Baseline RF Accuracy:\", accuracy_score(y_test, y_pred_rf_base))\n",
    "print(\"Baseline RF F1 (macro):\", f1_score(y_test, y_pred_rf_base, average=\"macro\"))\n",
    "print(\"Baseline SVM Accuracy:\", accuracy_score(y_test, y_pred_svm_base))\n",
    "print(\"Baseline SVM F1 (macro):\", f1_score(y_test, y_pred_svm_base, average=\"macro\"))"
   ]
  },
  {
   "cell_type": "markdown",
   "id": "d4a07cc6",
   "metadata": {},
   "source": [
    "Random Forest"
   ]
  },
  {
   "cell_type": "code",
   "execution_count": 5,
   "id": "10107301",
   "metadata": {},
   "outputs": [],
   "source": [
    "rf_params = {\n",
    "    \"n_estimators\": [100, 200, 300],\n",
    "    \"max_depth\": [None, 10, 20],\n",
    "    \"min_samples_split\": [2, 5, 10]\n",
    "}\n",
    "\n",
    "rf_grid = GridSearchCV(\n",
    "    RandomForestClassifier(random_state=42),\n",
    "    param_grid=rf_params,\n",
    "    cv=3,\n",
    "    scoring=\"f1_macro\",\n",
    "    n_jobs=-1\n",
    ")\n"
   ]
  },
  {
   "cell_type": "code",
   "execution_count": 6,
   "id": "1d162629",
   "metadata": {},
   "outputs": [
    {
     "name": "stdout",
     "output_type": "stream",
     "text": [
      "Best RF Params (GridSearch): {'max_depth': 10, 'min_samples_split': 2, 'n_estimators': 100}\n",
      "Tuned RF Accuracy: 0.5652173913043478\n",
      "Tuned RF F1 (macro): 0.31335593817560703\n"
     ]
    }
   ],
   "source": [
    "rf_grid.fit(X_train, y_train)\n",
    "print(\"Best RF Params (GridSearch):\", rf_grid.best_params_)\n",
    "y_pred_rf_grid = rf_grid.predict(X_test)\n",
    "print(\"Tuned RF Accuracy:\", accuracy_score(y_test, y_pred_rf_grid))\n",
    "print(\"Tuned RF F1 (macro):\", f1_score(y_test, y_pred_rf_grid, average=\"macro\"))"
   ]
  },
  {
   "cell_type": "markdown",
   "id": "9dc5ac32",
   "metadata": {},
   "source": [
    "SVM"
   ]
  },
  {
   "cell_type": "code",
   "execution_count": 7,
   "id": "3ef6a243",
   "metadata": {},
   "outputs": [],
   "source": [
    "svm_params = {\n",
    "    \"C\": np.logspace(-2, 2, 10),\n",
    "    \"gamma\": np.logspace(-3, 1, 10),\n",
    "    \"kernel\": [\"rbf\", \"poly\", \"sigmoid\"]\n",
    "}\n",
    "svm_rand = RandomizedSearchCV(\n",
    "    SVC(probability=True, random_state=42),\n",
    "    param_distributions=svm_params,\n",
    "    n_iter=15,\n",
    "    cv=3,\n",
    "    scoring=\"f1_macro\",\n",
    "    random_state=42,\n",
    "    n_jobs=-1\n",
    ")"
   ]
  },
  {
   "cell_type": "code",
   "execution_count": 8,
   "id": "3529d901",
   "metadata": {},
   "outputs": [
    {
     "name": "stdout",
     "output_type": "stream",
     "text": [
      "Best SVM Params (RandomSearch): {'kernel': 'poly', 'gamma': np.float64(0.1668100537200059), 'C': np.float64(12.915496650148826)}\n",
      "Tuned SVM Accuracy: 0.5054347826086957\n",
      "Tuned SVM F1 (macro): 0.3261901964103739\n"
     ]
    }
   ],
   "source": [
    "svm_rand.fit(X_train, y_train)\n",
    "print(\"Best SVM Params (RandomSearch):\", svm_rand.best_params_)\n",
    "y_pred_svm_rand = svm_rand.predict(X_test)\n",
    "print(\"Tuned SVM Accuracy:\", accuracy_score(y_test, y_pred_svm_rand))\n",
    "print(\"Tuned SVM F1 (macro):\", f1_score(y_test, y_pred_svm_rand, average=\"macro\"))"
   ]
  }
 ],
 "metadata": {
  "kernelspec": {
   "display_name": "Python (ml_env)",
   "language": "python",
   "name": "ml_env"
  },
  "language_info": {
   "codemirror_mode": {
    "name": "ipython",
    "version": 3
   },
   "file_extension": ".py",
   "mimetype": "text/x-python",
   "name": "python",
   "nbconvert_exporter": "python",
   "pygments_lexer": "ipython3",
   "version": "3.13.2"
  }
 },
 "nbformat": 4,
 "nbformat_minor": 5
}
