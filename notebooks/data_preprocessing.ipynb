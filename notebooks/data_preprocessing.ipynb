{
 "cells": [
  {
   "cell_type": "markdown",
   "id": "e174bff3",
   "metadata": {},
   "source": [
    "### Machine Learning Full Pipeline on Heart Disease UCI Dataset"
   ]
  },
  {
   "cell_type": "markdown",
   "id": "fa8fff81",
   "metadata": {},
   "source": [
    "**Data Handling & Cleaning**"
   ]
  },
  {
   "cell_type": "code",
   "execution_count": 1,
   "id": "18410e38",
   "metadata": {},
   "outputs": [],
   "source": [
    "import pandas as pd\n",
    "import csv"
   ]
  },
  {
   "cell_type": "code",
   "execution_count": 2,
   "id": "b36c4124",
   "metadata": {},
   "outputs": [],
   "source": [
    "#Load the dataset using Pandas\n",
    "df = pd.read_csv('heart_disease_uci.csv')"
   ]
  },
  {
   "cell_type": "code",
   "execution_count": 3,
   "id": "92c69af2",
   "metadata": {},
   "outputs": [
    {
     "data": {
      "text/html": [
       "<div>\n",
       "<style scoped>\n",
       "    .dataframe tbody tr th:only-of-type {\n",
       "        vertical-align: middle;\n",
       "    }\n",
       "\n",
       "    .dataframe tbody tr th {\n",
       "        vertical-align: top;\n",
       "    }\n",
       "\n",
       "    .dataframe thead th {\n",
       "        text-align: right;\n",
       "    }\n",
       "</style>\n",
       "<table border=\"1\" class=\"dataframe\">\n",
       "  <thead>\n",
       "    <tr style=\"text-align: right;\">\n",
       "      <th></th>\n",
       "      <th>id</th>\n",
       "      <th>age</th>\n",
       "      <th>sex</th>\n",
       "      <th>dataset</th>\n",
       "      <th>cp</th>\n",
       "      <th>trestbps</th>\n",
       "      <th>chol</th>\n",
       "      <th>fbs</th>\n",
       "      <th>restecg</th>\n",
       "      <th>thalch</th>\n",
       "      <th>exang</th>\n",
       "      <th>oldpeak</th>\n",
       "      <th>slope</th>\n",
       "      <th>ca</th>\n",
       "      <th>thal</th>\n",
       "      <th>num</th>\n",
       "    </tr>\n",
       "  </thead>\n",
       "  <tbody>\n",
       "    <tr>\n",
       "      <th>0</th>\n",
       "      <td>1</td>\n",
       "      <td>63</td>\n",
       "      <td>Male</td>\n",
       "      <td>Cleveland</td>\n",
       "      <td>typical angina</td>\n",
       "      <td>145.0</td>\n",
       "      <td>233.0</td>\n",
       "      <td>True</td>\n",
       "      <td>lv hypertrophy</td>\n",
       "      <td>150.0</td>\n",
       "      <td>False</td>\n",
       "      <td>2.3</td>\n",
       "      <td>downsloping</td>\n",
       "      <td>0.0</td>\n",
       "      <td>fixed defect</td>\n",
       "      <td>0</td>\n",
       "    </tr>\n",
       "    <tr>\n",
       "      <th>1</th>\n",
       "      <td>2</td>\n",
       "      <td>67</td>\n",
       "      <td>Male</td>\n",
       "      <td>Cleveland</td>\n",
       "      <td>asymptomatic</td>\n",
       "      <td>160.0</td>\n",
       "      <td>286.0</td>\n",
       "      <td>False</td>\n",
       "      <td>lv hypertrophy</td>\n",
       "      <td>108.0</td>\n",
       "      <td>True</td>\n",
       "      <td>1.5</td>\n",
       "      <td>flat</td>\n",
       "      <td>3.0</td>\n",
       "      <td>normal</td>\n",
       "      <td>2</td>\n",
       "    </tr>\n",
       "    <tr>\n",
       "      <th>2</th>\n",
       "      <td>3</td>\n",
       "      <td>67</td>\n",
       "      <td>Male</td>\n",
       "      <td>Cleveland</td>\n",
       "      <td>asymptomatic</td>\n",
       "      <td>120.0</td>\n",
       "      <td>229.0</td>\n",
       "      <td>False</td>\n",
       "      <td>lv hypertrophy</td>\n",
       "      <td>129.0</td>\n",
       "      <td>True</td>\n",
       "      <td>2.6</td>\n",
       "      <td>flat</td>\n",
       "      <td>2.0</td>\n",
       "      <td>reversable defect</td>\n",
       "      <td>1</td>\n",
       "    </tr>\n",
       "    <tr>\n",
       "      <th>3</th>\n",
       "      <td>4</td>\n",
       "      <td>37</td>\n",
       "      <td>Male</td>\n",
       "      <td>Cleveland</td>\n",
       "      <td>non-anginal</td>\n",
       "      <td>130.0</td>\n",
       "      <td>250.0</td>\n",
       "      <td>False</td>\n",
       "      <td>normal</td>\n",
       "      <td>187.0</td>\n",
       "      <td>False</td>\n",
       "      <td>3.5</td>\n",
       "      <td>downsloping</td>\n",
       "      <td>0.0</td>\n",
       "      <td>normal</td>\n",
       "      <td>0</td>\n",
       "    </tr>\n",
       "    <tr>\n",
       "      <th>4</th>\n",
       "      <td>5</td>\n",
       "      <td>41</td>\n",
       "      <td>Female</td>\n",
       "      <td>Cleveland</td>\n",
       "      <td>atypical angina</td>\n",
       "      <td>130.0</td>\n",
       "      <td>204.0</td>\n",
       "      <td>False</td>\n",
       "      <td>lv hypertrophy</td>\n",
       "      <td>172.0</td>\n",
       "      <td>False</td>\n",
       "      <td>1.4</td>\n",
       "      <td>upsloping</td>\n",
       "      <td>0.0</td>\n",
       "      <td>normal</td>\n",
       "      <td>0</td>\n",
       "    </tr>\n",
       "  </tbody>\n",
       "</table>\n",
       "</div>"
      ],
      "text/plain": [
       "   id  age     sex    dataset               cp  trestbps   chol    fbs  \\\n",
       "0   1   63    Male  Cleveland   typical angina     145.0  233.0   True   \n",
       "1   2   67    Male  Cleveland     asymptomatic     160.0  286.0  False   \n",
       "2   3   67    Male  Cleveland     asymptomatic     120.0  229.0  False   \n",
       "3   4   37    Male  Cleveland      non-anginal     130.0  250.0  False   \n",
       "4   5   41  Female  Cleveland  atypical angina     130.0  204.0  False   \n",
       "\n",
       "          restecg  thalch  exang  oldpeak        slope   ca  \\\n",
       "0  lv hypertrophy   150.0  False      2.3  downsloping  0.0   \n",
       "1  lv hypertrophy   108.0   True      1.5         flat  3.0   \n",
       "2  lv hypertrophy   129.0   True      2.6         flat  2.0   \n",
       "3          normal   187.0  False      3.5  downsloping  0.0   \n",
       "4  lv hypertrophy   172.0  False      1.4    upsloping  0.0   \n",
       "\n",
       "                thal  num  \n",
       "0       fixed defect    0  \n",
       "1             normal    2  \n",
       "2  reversable defect    1  \n",
       "3             normal    0  \n",
       "4             normal    0  "
      ]
     },
     "metadata": {},
     "output_type": "display_data"
    }
   ],
   "source": [
    "#displaying the first 5 rows\n",
    "display(df.head())"
   ]
  },
  {
   "cell_type": "code",
   "execution_count": 4,
   "id": "9d8cc581",
   "metadata": {},
   "outputs": [
    {
     "name": "stdout",
     "output_type": "stream",
     "text": [
      "id            0\n",
      "age           0\n",
      "sex           0\n",
      "dataset       0\n",
      "cp            0\n",
      "trestbps     59\n",
      "chol         30\n",
      "fbs          90\n",
      "restecg       2\n",
      "thalch       55\n",
      "exang        55\n",
      "oldpeak      62\n",
      "slope       309\n",
      "ca          611\n",
      "thal        486\n",
      "num           0\n",
      "dtype: int64\n"
     ]
    }
   ],
   "source": [
    "#finding out the null values \n",
    "print(df.isnull().sum())"
   ]
  },
  {
   "cell_type": "code",
   "execution_count": 5,
   "id": "fbcdc457",
   "metadata": {},
   "outputs": [
    {
     "name": "stderr",
     "output_type": "stream",
     "text": [
      "C:\\Users\\hp\\AppData\\Local\\Temp\\ipykernel_15756\\4161223533.py:2: FutureWarning: Downcasting object dtype arrays on .fillna, .ffill, .bfill is deprecated and will change in a future version. Call result.infer_objects(copy=False) instead. To opt-in to the future behavior, set `pd.set_option('future.no_silent_downcasting', True)`\n",
      "  df = df.fillna(df.mode().iloc[0])\n"
     ]
    }
   ],
   "source": [
    "df = df.fillna(df.median(numeric_only=True))   # fill numeric NaNs with median\n",
    "df = df.fillna(df.mode().iloc[0])"
   ]
  },
  {
   "cell_type": "markdown",
   "id": "96d8777a",
   "metadata": {},
   "source": [
    "**Encoding**"
   ]
  },
  {
   "cell_type": "code",
   "execution_count": 8,
   "id": "31194abc",
   "metadata": {},
   "outputs": [],
   "source": [
    "from sklearn.preprocessing import OneHotEncoder\n",
    "from sklearn.compose import ColumnTransformer\n",
    "from sklearn.pipeline import Pipeline\n",
    "from sklearn.preprocessing import StandardScaler"
   ]
  },
  {
   "cell_type": "code",
   "execution_count": 9,
   "id": "bb696b45",
   "metadata": {},
   "outputs": [],
   "source": [
    "categorical_cols = ['cp', 'thal', 'slope']  # adjust based on your dataset\n",
    "numerical_cols = ['age', 'chol', 'thalch', 'oldpeak', 'ca']  # rest\n",
    "\n",
    "# Preprocessor: scale numeric + encode categorical\n",
    "preprocessor = ColumnTransformer(transformers=[('num', StandardScaler(), numerical_cols),('cat', OneHotEncoder(handle_unknown='ignore'), categorical_cols)])"
   ]
  },
  {
   "cell_type": "markdown",
   "id": "a96501d6",
   "metadata": {},
   "source": [
    "**Standardiziation**"
   ]
  },
  {
   "cell_type": "code",
   "execution_count": 33,
   "id": "34dacb2b",
   "metadata": {},
   "outputs": [],
   "source": [
    "X = df[categorical_cols + numerical_cols]\n",
    "y = df['num']"
   ]
  },
  {
   "cell_type": "code",
   "execution_count": 34,
   "id": "8d1f4aa9",
   "metadata": {},
   "outputs": [],
   "source": [
    "X1 = preprocessor.fit_transform(X)"
   ]
  },
  {
   "cell_type": "markdown",
   "id": "8e9d9fba",
   "metadata": {},
   "source": [
    "**Data Visualization**"
   ]
  },
  {
   "cell_type": "markdown",
   "id": "dd3357e3",
   "metadata": {},
   "source": [
    "1-Matplotlib"
   ]
  },
  {
   "cell_type": "code",
   "execution_count": 17,
   "id": "34c1d6a0",
   "metadata": {},
   "outputs": [
    {
     "data": {
      "text/plain": [
       "<Figure size 1000x800 with 0 Axes>"
      ]
     },
     "metadata": {},
     "output_type": "display_data"
    }
   ],
   "source": [
    "import matplotlib.pyplot as plt\n",
    "import matplotlib.dates as mdates\n",
    "import numpy as np\n",
    "plt.figure(figsize=(10,8))\n",
    "%matplotlib inline\n",
    "plt.style.use('dark_background')\n",
    "import pandas as pd"
   ]
  },
  {
   "cell_type": "code",
   "execution_count": 18,
   "id": "0b6a3c6f",
   "metadata": {},
   "outputs": [
    {
     "data": {
      "image/png": "[encoded data removed]",
      "text/plain": [
       "<Figure size 800x400 with 1 Axes>"
      ]
     },
     "metadata": {},
     "output_type": "display_data"
    }
   ],
   "source": [
    "#Genders VS Stages of heart disease\n",
    "grouped= df.groupby(['sex', 'num']).size().unstack()\n",
    "\n",
    "grouped.plot(kind='bar',figsize=(8,4), edgecolor='black', colormap='Reds')\n",
    "\n",
    "plt.title('Genders VS Stages of heart disease')\n",
    "plt.xlabel('Gender')\n",
    "plt.ylabel('Number of men or women')\n",
    "plt.xticks(rotation=45)\n",
    "plt.legend(title='Stages of heart disease', bbox_to_anchor=(1,1), loc='upper left')\n",
    "plt.tight_layout()\n",
    "plt.show()"
   ]
  },
  {
   "cell_type": "markdown",
   "id": "513b616e",
   "metadata": {},
   "source": [
    "2-Seaborn"
   ]
  },
  {
   "cell_type": "code",
   "execution_count": 19,
   "id": "90ef613e",
   "metadata": {},
   "outputs": [],
   "source": [
    "import seaborn as sns\n",
    "import matplotlib.pyplot as plt"
   ]
  },
  {
   "cell_type": "code",
   "execution_count": 67,
   "id": "19a2cef8",
   "metadata": {},
   "outputs": [
    {
     "data": {
      "image/png": "[encoded data removed]",
      "text/plain": [
       "<Figure size 640x480 with 1 Axes>"
      ]
     },
     "metadata": {},
     "output_type": "display_data"
    },
    {
     "data": {
      "image/png": "[encoded data removed]",
      "text/plain": [
       "<Figure size 640x480 with 1 Axes>"
      ]
     },
     "metadata": {},
     "output_type": "display_data"
    }
   ],
   "source": [
    "sns.boxplot(x='num', y='chol', data=df,hue='num',palette=\"Set2\",legend=False)\n",
    "plt.title(\"Cholesterol vs Heart Disease Stage\")\n",
    "plt.xlabel('Heart disease stage')\n",
    "plt.ylabel('Cholestrol')\n",
    "plt.show()\n",
    "\n",
    "sns.boxplot(x='num', y='thalch', data=df,hue='num',palette=\"Set1\",legend=False)\n",
    "plt.title(\"Max Heart Rate vs Heart Disease Stage\")\n",
    "plt.xlabel('Heart disease stage')\n",
    "plt.ylabel('Max Heart Rate')\n",
    "plt.show()\n",
    "\n",
    "\n"
   ]
  },
  {
   "cell_type": "markdown",
   "id": "df9c96df",
   "metadata": {},
   "source": [
    "3-Plotly"
   ]
  },
  {
   "cell_type": "code",
   "execution_count": 20,
   "id": "1bc7c93e",
   "metadata": {},
   "outputs": [],
   "source": [
    "import plotly.express as px"
   ]
  },
  {
   "cell_type": "code",
   "execution_count": 68,
   "id": "2147f21a",
   "metadata": {},
   "outputs": [
    {
     "data": {
      "application/vnd.plotly.v1+json": {
       "config": {
        "plotlyServerURL": "https://plot.ly"
       },
       "data": [
        {
         "hovertemplate": "sex=Male<br>num=0<br>age=%{x}<br>chol=%{y}<br>thalch=%{marker.size}<extra></extra>",
         "legendgroup": "Male",
         "marker": {
          "color": "#636efa",
          "size": {
           "bdata": "AAAAAADAYkAAAAAAAGBnQAAAAAAAQGZAAAAAAACAYkAAAAAAAKBlQAAAAAAAQGRAAAAAAADAZUAAAAAAAABkQAAAAAAAYGVAAAAAAAAAYkAAAAAAAGBlQAAAAAAAIGRAAAAAAABgZkAAAAAAAEBmQAAAAAAAIGFAAAAAAABAZkAAAAAAAKBjQAAAAAAAwF5AAAAAAAAAY0AAAAAAAIBhQAAAAAAAgGdAAAAAAAAAY0AAAAAAAEBfQAAAAAAAoGRAAAAAAACAZkAAAAAAAIBiQAAAAAAAwGZAAAAAAACAZUAAAAAAAIBmQAAAAAAAgGNAAAAAAADgYkAAAAAAAEBiQAAAAAAAwGNAAAAAAABAZ0AAAAAAACBnQAAAAAAAwGVAAAAAAACAY0AAAAAAAMBnQAAAAAAAgGBAAAAAAACgZEAAAAAAAOBhQAAAAAAAQGVAAAAAAABgYkAAAAAAAEBjQAAAAAAAQGlAAAAAAABAZ0AAAAAAAMBkQAAAAAAAgGRAAAAAAAAAZ0AAAAAAAEBjQAAAAAAAYGZAAAAAAABAZUAAAAAAAEBmQAAAAAAA4GJAAAAAAACAY0AAAAAAAOBlQAAAAAAAAGVAAAAAAAAgZUAAAAAAAMBbQAAAAAAAYGJAAAAAAABAZEAAAAAAAKBlQAAAAAAAQGZAAAAAAAAgYkAAAAAAAEBoQAAAAAAAYGRAAAAAAABgYEAAAAAAAKBlQAAAAAAAIGRAAAAAAABgY0AAAAAAAABlQAAAAAAAQGRAAAAAAADAZkAAAAAAAOBhQAAAAAAAQGRAAAAAAAAgY0AAAAAAAIBhQAAAAAAAgF9AAAAAAABAWkAAAAAAAKBmQAAAAAAA4GFAAAAAAAAgZUAAAAAAAMBiQAAAAAAAQGFAAAAAAABgY0AAAAAAAGBmQAAAAAAAwGVAAAAAAAAAYkAAAAAAAGBkQAAAAAAAIGVAAAAAAADAZkAAAAAAAKBlQAAAAAAAIGdAAAAAAAAAZEAAAAAAAEBlQAAAAAAAAGdAAAAAAABgY0AAAAAAACBnQAAAAAAAAGVAAAAAAADAYkAAAAAAAIBmQAAAAAAAAGVAAAAAAACAZkAAAAAAAABnQAAAAAAAQGZAAAAAAACAZUAAAAAAAIBYQAAAAAAAwGJAAAAAAAAAZUAAAAAAAMBjQAAAAAAAwGJAAAAAAABAYEAAAAAAAEBiQAAAAAAAAGRAAAAAAAAgYkAAAAAAAABeQAAAAAAAgFpAAAAAAABAZUAAAAAAAABkQAAAAAAAgGBAAAAAAACAYUAAAAAAAMBiQAAAAAAAgGVAAAAAAABAYUAAAAAAAOBkQAAAAAAAgGdAAAAAAAAAZEAAAAAAAEBlQAAAAAAAAGJAAAAAAADAYUAAAAAAAMBiQAAAAAAAYGNAAAAAAAAAYUAAAAAAAABjQAAAAAAAQGJAAAAAAABAZUAAAAAAAEBhQAAAAAAAwGFAAAAAAADgYEAAAAAAAEBlQAAAAAAAgF5AAAAAAACAW0AAAAAAAIBhQAAAAAAAAGJAAAAAAACgZEAAAAAAAMBiQAAAAAAAAF1AAAAAAACAYUAAAAAAAIBhQAAAAAAAAF5AAAAAAADAYkAAAAAAAMBlQAAAAAAAQF9AAAAAAAAAWUAAAAAAAABkQAAAAAAAgF1AAAAAAABAYUAAAAAAAMBlQAAAAAAAgGVAAAAAAACAYEAAAAAAAEBgQAAAAAAAAGRAAAAAAABAZUAAAAAAAABdQAAAAAAA4GBAAAAAAACAYUAAAAAAACBiQAAAAAAAwGJAAAAAAAAAWUAAAAAAAIBdQAAAAAAAQGFAAAAAAACgZEAAAAAAAEBlQAAAAAAAgGBAAAAAAABAZEAAAAAAAIBhQAAAAAAAAFxAAAAAAACAYkAAAAAAAGBjQAAAAAAAIGFAAAAAAADAYUAAAAAAAEBjQAAAAAAAgFtAAAAAAABAYEAAAAAAAOBlQAAAAAAAIGFAAAAAAACAXkAAAAAAAMBgQAAAAAAAIGFAAAAAAADAYkAAAAAAAGBjQAAAAAAAAGRAAAAAAADAYEAAAAAAAIBhQAAAAAAAgFtAAAAAAAAAWUAAAAAAAIBcQAAAAAAAAGBAAAAAAACAYUAAAAAAAIBhQAAAAAAAwGJAAAAAAACAW0AAAAAAAABkQAAAAAAAAFlAAAAAAADAYkAAAAAAAABeQAAAAAAAAFlAAAAAAACAYUAAAAAAAOBgQAAAAAAAwFxAAAAAAAAAY0AAAAAAAGBmQAAAAAAAQGFAAAAAAAAAXkAAAAAAAKBhQAAAAAAAwGJAAAAAAABAWEAAAAAAAEBjQAAAAAAAgFxAAAAAAADAX0AAAAAAAMBYQAAAAAAAAF5AAAAAAACAYUAAAAAAAIBhQAAAAAAAgFVAAAAAAAAAXkAAAAAAAIBdQAAAAAAAgGFAAAAAAACgYEAAAAAAAGBgQAAAAAAAwFtAAAAAAADAWkAAAAAAAABkQAAAAAAAIGRAAAAAAACAYUAAAAAAAIBhQAAAAAAAgGZAAAAAAACAYUAAAAAAAEBRQAAAAAAAgGFAAAAAAAAAVEAAAAAAAIBhQAAAAAAAgGFAAAAAAAAAZEAAAAAAAABgQAAAAAAAwGJAAAAAAACAYUAAAAAAAIBhQAAAAAAAAFlAAAAAAACAYUAAAAAAAIBhQAAAAAAAgFVAAAAAAAAAZEAAAAAAAABcQAAAAAAAgGFAAAAAAACAYUAAAAAAAEBjQAAAAAAAAGBAAAAAAACAYUAAAAAAAKBkQAAAAAAAgGFAAAAAAACAW0AAAAAAAIBhQAAAAAAAAFhAAAAAAADgYkAAAAAAAIBhQAAAAAAAgGFA",
           "dtype": "f8"
          },
          "sizemode": "area",
          "sizeref": 0.505,
          "symbol": "circle"
         },
         "mode": "markers",
         "name": "Male",
         "orientation": "v",
         "showlegend": true,
         "type": "scatter",
         "x": {
          "bdata": "PyU4OSw0OTYxQCs7LCo9KDszNUEsNjM2MC0nNCwvQj40MC0iNjQpOjMsNjMdMzM7NDopLTRELjA5NDU0KzUqOyoyRTkrNyk4Oy8qKT45QCtGLCpCQC8jOjg4KSYcHR0gICEiIiMjJCQkJCUlJSUmJicnJycnJycnJygoKCgoKSkpKSoqKioqKissLCwtLS0tLi4uLi4uLy8vMDAwMDExMTEyMjIyMjMzMzQ0NDQ1NTU1NTU2NjY2NjY2NjY3Nzc3Nzc3ODg4ODk6Ojo6Ozs7Ozw9PiYtNTU3OEFILEJCPDg+PzxKPDspMyo4PjM3QTozKDwjP0A3LT05MEQ+NUs2NjspRSU/Ojc5RD46",
          "dtype": "i1"
         },
         "xaxis": "x",
         "y": {
          "bdata": "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",
          "dtype": "f8"
         },
         "yaxis": "y"
        },
        {
         "hovertemplate": "sex=Female<br>num=0<br>age=%{x}<br>chol=%{y}<br>thalch=%{marker.size}<extra></extra>",
         "legendgroup": "Female",
         "marker": {
          "color": "#EF553B",
          "size": {
           "bdata": "AAAAAACAZUAAAAAAAGBkQAAAAAAAIGNAAAAAAABgYUAAAAAAAEBkQAAAAAAAwGNAAAAAAACAZUAAAAAAAIBcQAAAAAAA4GJAAAAAAABAZEAAAAAAAKBjQAAAAAAAAGVAAAAAAAAAZEAAAAAAAEBlQAAAAAAAgGJAAAAAAADgYkAAAAAAAMBhQAAAAAAA4GFAAAAAAADAXEAAAAAAAABkQAAAAAAAoGJAAAAAAADgZUAAAAAAAIBlQAAAAAAA4GNAAAAAAABAYEAAAAAAAMBmQAAAAAAA4GVAAAAAAABgZEAAAAAAAKBkQAAAAAAAIGRAAAAAAAAAZEAAAAAAAIBeQAAAAAAAAGRAAAAAAADAY0AAAAAAAIBeQAAAAAAA4GNAAAAAAABAYUAAAAAAAKBjQAAAAAAAYGZAAAAAAADAXEAAAAAAAABjQAAAAAAAQGRAAAAAAADgY0AAAAAAAEBjQAAAAAAAoGBAAAAAAABAZUAAAAAAAIBlQAAAAAAAAGNAAAAAAACAXkAAAAAAAIBlQAAAAAAA4GRAAAAAAABgZkAAAAAAAABoQAAAAAAAgGVAAAAAAAAgZUAAAAAAAEBeQAAAAAAAYGRAAAAAAABAZEAAAAAAAGBkQAAAAAAAYGRAAAAAAAAAWEAAAAAAAKBjQAAAAAAAoGVAAAAAAADAYUAAAAAAAABdQAAAAAAAoGJAAAAAAABgZUAAAAAAAEBfQAAAAAAAAGNAAAAAAAAAY0AAAAAAAGBgQAAAAAAAwGRAAAAAAABAZUAAAAAAAMBiQAAAAAAAoGRAAAAAAADAZ0AAAAAAACBnQAAAAAAAwGJAAAAAAABAYEAAAAAAAMBhQAAAAAAAAGdAAAAAAAAgYEAAAAAAAIBmQAAAAAAAwGFAAAAAAACAZkAAAAAAAMBiQAAAAAAAIGFAAAAAAADAYUAAAAAAAKBkQAAAAAAA4GVAAAAAAAAAZkAAAAAAAIBdQAAAAAAAQGNAAAAAAADgZUAAAAAAAMBcQAAAAAAAQGVAAAAAAACAZkAAAAAAAABiQAAAAAAAgFZAAAAAAADgYEAAAAAAACBiQAAAAAAAgGFAAAAAAACAYkAAAAAAAABeQAAAAAAAQF9AAAAAAADgZUAAAAAAAIBbQAAAAAAAQGBAAAAAAAAAZEAAAAAAAABkQAAAAAAAgGRAAAAAAADgYEAAAAAAACBiQAAAAAAAgFtAAAAAAABAZUAAAAAAAABeQAAAAAAAAGRAAAAAAAAAXkAAAAAAAIBiQAAAAAAAgGFAAAAAAABgYUAAAAAAAIBhQAAAAAAAwF9AAAAAAADAYUAAAAAAAEBgQAAAAAAAQGFAAAAAAACAYUAAAAAAAMBiQAAAAAAAYGNAAAAAAACAYUAAAAAAAEBgQAAAAAAAQGBAAAAAAAAAZEAAAAAAAGBjQAAAAAAAwGJAAAAAAACAZEAAAAAAAIBYQAAAAAAAgF9AAAAAAAAAX0AAAAAAAABeQAAAAAAAAF1AAAAAAACAYUAAAAAAAABeQAAAAAAAAFhA",
           "dtype": "f8"
          },
          "sizemode": "area",
          "sizeref": 0.505,
          "symbol": "circle"
         },
         "mode": "markers",
         "name": "Female",
         "orientation": "v",
         "showlegend": true,
         "type": "scatter",
         "x": {
          "bdata": "KTk4MDoyOkJFR0EpLjZBQTM1NTUzLD85RyMtPis3PCpDNjo2LT4/RC0yMkBAJS4uQCk2JyJDNEo2MSkxPDMqQ0wsPEdCJzo3Hh8gIiMjJSUlJicpKSkqKysrKysrKywtLS0uLy8wMDAwMDAwMTExMTIyMzMzMzQ0NDQ1NTU2NjY2NjY2Nzc3ODk5Oz0+Pz0z",
          "dtype": "i1"
         },
         "xaxis": "x",
         "y": {
          "bdata": "AAAAAACAaUAAAAAAACB2QAAAAAAAYHJAAAAAAAAwcUAAAAAAALBxQAAAAAAAYGtAAAAAAABAdUAAAAAAAEBsQAAAAAAA4G1AAAAAAADgckAAAAAAABB6QAAAAAAAwGhAAAAAAAAgZkAAAAAAAABzQAAAAAAA0HBAAAAAAACAdkAAAAAAAEBzQAAAAAAAgHBAAAAAAAAAa0AAAAAAAEBtQAAAAAAAAHBAAAAAAACgYUAAAAAAAIBvQAAAAAAA8HJAAAAAAACQcEAAAAAAAOBmQAAAAAAAQG1AAAAAAAAgakAAAAAAAKBqQAAAAAAAQG9AAAAAAADgc0AAAAAAAJBwQAAAAAAAoIFAAAAAAADAakAAAAAAAABvQAAAAAAAAHJAAAAAAAAAZEAAAAAAAKB4QAAAAAAAYGhAAAAAAABgakAAAAAAAIBtQAAAAAAAgG5AAAAAAADAb0AAAAAAAFB0QAAAAAAAkHNAAAAAAADgakAAAAAAAIBpQAAAAAAAYG5AAAAAAADwckAAAAAAAMBwQAAAAAAAsHBAAAAAAADgaEAAAAAAAEBqQAAAAAAAUHFAAAAAAACAaEAAAAAAANBwQAAAAAAAIGlAAAAAAADwcEAAAAAAACBzQAAAAAAA0HBAAAAAAABAZkAAAAAAAHByQAAAAAAAIGpAAAAAAADga0AAAAAAAKBoQAAAAAAAQG5AAAAAAAAAbkAAAAAAAKBiQAAAAAAAYHFAAAAAAACAa0AAAAAAAKBoQAAAAAAAYHVAAAAAAACgbUAAAAAAAGBrQAAAAAAAwGhAAAAAAAAgZEAAAAAAAABkQAAAAAAA4GRAAAAAAABAcEAAAAAAAGBqQAAAAAAAoGVAAAAAAAAwcUAAAAAAAMBmQAAAAAAAQG9AAAAAAAAAZ0AAAAAAAKBuQAAAAAAAYGpAAAAAAADga0AAAAAAACBpQAAAAAAA4GpAAAAAAAAgb0AAAAAAAKBwQAAAAAAAQGdAAAAAAADga0AAAAAAAEBrQAAAAAAAoG1AAAAAAADga0AAAAAAAJByQAAAAAAAwG1AAAAAAAAQcEAAAAAAAOBrQAAAAAAAQHNAAAAAAADga0AAAAAAAMBxQAAAAAAAYGhAAAAAAABgZEAAAAAAAMBvQAAAAAAAYGxAAAAAAADga0AAAAAAAOBrQAAAAAAAIGlAAAAAAADgaUAAAAAAAEBpQAAAAAAAgHRAAAAAAABAaEAAAAAAAMBnQAAAAAAAgGtAAAAAAAAAaUAAAAAAAEBqQAAAAAAA4GtAAAAAAAAAcUAAAAAAAIBmQAAAAAAAQH1AAAAAAAAAa0AAAAAAACBxQAAAAAAAoGtAAAAAAADAbEAAAAAAABBxQAAAAAAAoG9AAAAAAABQc0AAAAAAAMBsQAAAAAAAgHNAAAAAAACAdUAAAAAAAAB0QAAAAAAAoHhAAAAAAABga0AAAAAAAEBzQAAAAAAAsHVAAAAAAACAZ0AAAAAAAGByQAAAAAAAIGhAAAAAAAAAAAAAAAAAAKByQAAAAAAAIHBA",
          "dtype": "f8"
         },
         "yaxis": "y"
        }
       ],
       "frames": [
        {
         "data": [
          {
           "hovertemplate": "sex=Male<br>num=0<br>age=%{x}<br>chol=%{y}<br>thalch=%{marker.size}<extra></extra>",
           "legendgroup": "Male",
           "marker": {
            "color": "#636efa",
            "size": {
             "bdata": "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",
             "dtype": "f8"
            },
            "sizemode": "area",
            "sizeref": 0.505,
            "symbol": "circle"
           },
           "mode": "markers",
           "name": "Male",
           "orientation": "v",
           "showlegend": true,
           "type": "scatter",
           "x": {
            "bdata": "PyU4OSw0OTYxQCs7LCo9KDszNUEsNjM2MC0nNCwvQj40MC0iNjQpOjMsNjMdMzM7NDopLTRELjA5NDU0KzUqOyoyRTkrNyk4Oy8qKT45QCtGLCpCQC8jOjg4KSYcHR0gICEiIiMjJCQkJCUlJSUmJicnJycnJycnJygoKCgoKSkpKSoqKioqKissLCwtLS0tLi4uLi4uLy8vMDAwMDExMTEyMjIyMjMzMzQ0NDQ1NTU1NTU2NjY2NjY2NjY3Nzc3Nzc3ODg4ODk6Ojo6Ozs7Ozw9PiYtNTU3OEFILEJCPDg+PzxKPDspMyo4PjM3QTozKDwjP0A3LT05MEQ+NUs2NjspRSU/Ojc5RD46",
            "dtype": "i1"
           },
           "xaxis": "x",
           "y": {
            "bdata": "AAAAAAAgbUAAAAAAAEBvQAAAAAAAgG1AAAAAAAAAaEAAAAAAAHBwQAAAAAAA4GhAAAAAAAAAZUAAAAAAAOBtQAAAAAAAoHBAAAAAAABgakAAAAAAAOBuQAAAAAAAQG1AAAAAAAAgbUAAAAAAAEBsQAAAAAAAYG5AAAAAAADgaEAAAAAAAIBqQAAAAAAA4GVAAAAAAACgaEAAAAAAACBmQAAAAAAAYGtAAAAAAAAQcUAAAAAAAKBqQAAAAAAAAG1AAAAAAACgbkAAAAAAAABqQAAAAAAAEHRAAAAAAABQdEAAAAAAAGBtQAAAAAAAEHBAAAAAAADgckAAAAAAAOBsQAAAAAAAIGlAAAAAAADAa0AAAAAAAEBwQAAAAAAAwGZAAAAAAABQc0AAAAAAAEBnQAAAAAAAYGlAAAAAAABgakAAAAAAAMBrQAAAAAAAgGtAAAAAAAAgcEAAAAAAAGBsQAAAAAAAgGlAAAAAAABQcEAAAAAAAKBuQAAAAAAAoGtAAAAAAACgaUAAAAAAAABuQAAAAAAAQG9AAAAAAABAc0AAAAAAAKByQAAAAAAAUHFAAAAAAACgaEAAAAAAAOBvQAAAAAAA4GlAAAAAAADga0AAAAAAAEBsQAAAAAAAIG1AAAAAAACwc0AAAAAAAMBuQAAAAAAAgG5AAAAAAADgcEAAAAAAAABuQAAAAAAAgGhAAAAAAABAbUAAAAAAAIBfQAAAAAAAYGpAAAAAAABgcEAAAAAAAMBqQAAAAAAAIGhAAAAAAADwcEAAAAAAAIBpQAAAAAAAcHJAAAAAAABgbUAAAAAAAABqQAAAAAAAIGlAAAAAAABwcEAAAAAAAPByQAAAAAAAoG5AAAAAAABAbEAAAAAAAIBmQAAAAAAAgGxAAAAAAABgbEAAAAAAAKBvQAAAAAAAAGhAAAAAAACAa0AAAAAAAKBrQAAAAAAAAG5AAAAAAACgY0AAAAAAAOBlQAAAAAAAgGBAAAAAAABgbkAAAAAAAOBrQAAAAAAAIGxAAAAAAADAb0AAAAAAAKByQAAAAAAAwGpAAAAAAACAa0AAAAAAAEBzQAAAAAAAgHBAAAAAAADAZEAAAAAAAEB1QAAAAAAAIGpAAAAAAAAAZEAAAAAAALBxQAAAAAAAQGhAAAAAAADga0AAAAAAALBzQAAAAAAAkHJAAAAAAABAckAAAAAAAOBrQAAAAAAAAGlAAAAAAACAaUAAAAAAAOBrQAAAAAAAIG5AAAAAAAAwdUAAAAAAAGBiQAAAAAAAEHFAAAAAAAAwc0AAAAAAADBxQAAAAAAAEHJAAAAAAADgakAAAAAAAJBxQAAAAAAA4GtAAAAAAAAwckAAAAAAAHByQAAAAAAA0HBAAAAAAABAb0AAAAAAAIBoQAAAAAAAwGhAAAAAAADAcEAAAAAAAIBsQAAAAAAAYGJAAAAAAABgdkAAAAAAAOBpQAAAAAAAAGdAAAAAAADgakAAAAAAAMB5QAAAAAAAAGxAAAAAAADga0AAAAAAACBsQAAAAAAAAGxAAAAAAAAwcUAAAAAAAMBsQAAAAAAAYGRAAAAAAADAbUAAAAAAAABuQAAAAAAAgHFAAAAAAAAgb0AAAAAAAHBwQAAAAAAAQHFAAAAAAADga0AAAAAAAKBuQAAAAAAAwG1AAAAAAABgakAAAAAAAKBvQAAAAAAAYGdAAAAAAACQckAAAAAAAOBrQAAAAAAAAGVAAAAAAAAAa0AAAAAAACBqQAAAAAAAIGBAAAAAAADgakAAAAAAAIBnQAAAAAAAAGxAAAAAAABgZkAAAAAAAMBxQAAAAAAAAFlAAAAAAACAaEAAAAAAADBwQAAAAAAA4GtAAAAAAAAAdEAAAAAAAGBoQAAAAAAAQHBAAAAAAADAZkAAAAAAAGBuQAAAAAAAYGVAAAAAAAAAakAAAAAAAMBtQAAAAAAAwG5AAAAAAABgaEAAAAAAABBzQAAAAAAAIGtAAAAAAADga0AAAAAAANB2QAAAAAAAAHBAAAAAAACAaEAAAAAAAGB0QAAAAAAAUHFAAAAAAACAa0AAAAAAAOBwQAAAAAAAoGxAAAAAAAAAZ0AAAAAAAOBrQAAAAAAAQHFAAAAAAABAVUAAAAAAAEBwQAAAAAAAwGxAAAAAAABgb0AAAAAAAGBmQAAAAAAAwGtAAAAAAADwcUAAAAAAAOBzQAAAAAAAoGpAAAAAAADga0AAAAAAAMBuQAAAAAAAQHJAAAAAAADwcEAAAAAAAAAAAAAAAAAAAAAAAAAAAAAAAAAAAAAAAAAAAAAAAAAAAAAAAAAAAAAAAAAAAAAAAAAAAAAAAAAAAAAAAAAAAAAgakAAAAAAAKBqQAAAAAAAAAAAAAAAAAAAAAAAAAAAAMBkQAAAAAAAgGtAAAAAAAAAAAAAAAAAAAAAAAAAAAAAAAAAAAAAAAAAAAAAAAAAAAAAAAAAAAAAAAAAAAAAAAAAAAAAAAAAAABuQAAAAAAAAGxAAAAAAAAAAAAAAAAAAEBrQAAAAAAAwGpAAAAAAACAb0AAAAAAAKB8QAAAAAAAYGxAAAAAAAAAbkAAAAAAAGBoQAAAAAAAIGRAAAAAAAAAAAAAAAAAAOBrQAAAAAAAAGRAAAAAAACAbUAAAAAAALBxQAAAAAAAoGhAAAAAAAAAcUAAAAAAAKBmQAAAAAAAgGtAAAAAAADgZUAAAAAAAGBzQAAAAAAAYGlAAAAAAADAZkAAAAAAACBxQAAAAAAAYGVAAAAAAADwcEAAAAAAAABuQAAAAAAAoGRAAAAAAACgakAAAAAAAOBrQAAAAAAA4GlAAAAAAADAb0AAAAAAAGBhQAAAAAAAEHhA",
            "dtype": "f8"
           },
           "yaxis": "y"
          },
          {
           "hovertemplate": "sex=Female<br>num=0<br>age=%{x}<br>chol=%{y}<br>thalch=%{marker.size}<extra></extra>",
           "legendgroup": "Female",
           "marker": {
            "color": "#EF553B",
            "size": {
             "bdata": "AAAAAACAZUAAAAAAAGBkQAAAAAAAIGNAAAAAAABgYUAAAAAAAEBkQAAAAAAAwGNAAAAAAACAZUAAAAAAAIBcQAAAAAAA4GJAAAAAAABAZEAAAAAAAKBjQAAAAAAAAGVAAAAAAAAAZEAAAAAAAEBlQAAAAAAAgGJAAAAAAADgYkAAAAAAAMBhQAAAAAAA4GFAAAAAAADAXEAAAAAAAABkQAAAAAAAoGJAAAAAAADgZUAAAAAAAIBlQAAAAAAA4GNAAAAAAABAYEAAAAAAAMBmQAAAAAAA4GVAAAAAAABgZEAAAAAAAKBkQAAAAAAAIGRAAAAAAAAAZEAAAAAAAIBeQAAAAAAAAGRAAAAAAADAY0AAAAAAAIBeQAAAAAAA4GNAAAAAAABAYUAAAAAAAKBjQAAAAAAAYGZAAAAAAADAXEAAAAAAAABjQAAAAAAAQGRAAAAAAADgY0AAAAAAAEBjQAAAAAAAoGBAAAAAAABAZUAAAAAAAIBlQAAAAAAAAGNAAAAAAACAXkAAAAAAAIBlQAAAAAAA4GRAAAAAAABgZkAAAAAAAABoQAAAAAAAgGVAAAAAAAAgZUAAAAAAAEBeQAAAAAAAYGRAAAAAAABAZEAAAAAAAGBkQAAAAAAAYGRAAAAAAAAAWEAAAAAAAKBjQAAAAAAAoGVAAAAAAADAYUAAAAAAAABdQAAAAAAAoGJAAAAAAABgZUAAAAAAAEBfQAAAAAAAAGNAAAAAAAAAY0AAAAAAAGBgQAAAAAAAwGRAAAAAAABAZUAAAAAAAMBiQAAAAAAAoGRAAAAAAADAZ0AAAAAAACBnQAAAAAAAwGJAAAAAAABAYEAAAAAAAMBhQAAAAAAAAGdAAAAAAAAgYEAAAAAAAIBmQAAAAAAAwGFAAAAAAACAZkAAAAAAAMBiQAAAAAAAIGFAAAAAAADAYUAAAAAAAKBkQAAAAAAA4GVAAAAAAAAAZkAAAAAAAIBdQAAAAAAAQGNAAAAAAADgZUAAAAAAAMBcQAAAAAAAQGVAAAAAAACAZkAAAAAAAABiQAAAAAAAgFZAAAAAAADgYEAAAAAAACBiQAAAAAAAgGFAAAAAAACAYkAAAAAAAABeQAAAAAAAQF9AAAAAAADgZUAAAAAAAIBbQAAAAAAAQGBAAAAAAAAAZEAAAAAAAABkQAAAAAAAgGRAAAAAAADgYEAAAAAAACBiQAAAAAAAgFtAAAAAAABAZUAAAAAAAABeQAAAAAAAAGRAAAAAAAAAXkAAAAAAAIBiQAAAAAAAgGFAAAAAAABgYUAAAAAAAIBhQAAAAAAAwF9AAAAAAADAYUAAAAAAAEBgQAAAAAAAQGFAAAAAAACAYUAAAAAAAMBiQAAAAAAAYGNAAAAAAACAYUAAAAAAAEBgQAAAAAAAQGBAAAAAAAAAZEAAAAAAAGBjQAAAAAAAwGJAAAAAAACAZEAAAAAAAIBYQAAAAAAAgF9AAAAAAAAAX0AAAAAAAABeQAAAAAAAAF1AAAAAAACAYUAAAAAAAABeQAAAAAAAAFhA",
             "dtype": "f8"
            },
            "sizemode": "area",
            "sizeref": 0.505,
            "symbol": "circle"
           },
           "mode": "markers",
           "name": "Female",
           "orientation": "v",
           "showlegend": true,
           "type": "scatter",
           "x": {
            "bdata": "KTk4MDoyOkJFR0EpLjZBQTM1NTUzLD85RyMtPis3PCpDNjo2LT4/RC0yMkBAJS4uQCk2JyJDNEo2MSkxPDMqQ0wsPEdCJzo3Hh8gIiMjJSUlJicpKSkqKysrKysrKywtLS0uLy8wMDAwMDAwMTExMTIyMzMzMzQ0NDQ1NTU2NjY2NjY2Nzc3ODk5Oz0+Pz0z",
            "dtype": "i1"
           },
           "xaxis": "x",
           "y": {
            "bdata": "AAAAAACAaUAAAAAAACB2QAAAAAAAYHJAAAAAAAAwcUAAAAAAALBxQAAAAAAAYGtAAAAAAABAdUAAAAAAAEBsQAAAAAAA4G1AAAAAAADgckAAAAAAABB6QAAAAAAAwGhAAAAAAAAgZkAAAAAAAABzQAAAAAAA0HBAAAAAAACAdkAAAAAAAEBzQAAAAAAAgHBAAAAAAAAAa0AAAAAAAEBtQAAAAAAAAHBAAAAAAACgYUAAAAAAAIBvQAAAAAAA8HJAAAAAAACQcEAAAAAAAOBmQAAAAAAAQG1AAAAAAAAgakAAAAAAAKBqQAAAAAAAQG9AAAAAAADgc0AAAAAAAJBwQAAAAAAAoIFAAAAAAADAakAAAAAAAABvQAAAAAAAAHJAAAAAAAAAZEAAAAAAAKB4QAAAAAAAYGhAAAAAAABgakAAAAAAAIBtQAAAAAAAgG5AAAAAAADAb0AAAAAAAFB0QAAAAAAAkHNAAAAAAADgakAAAAAAAIBpQAAAAAAAYG5AAAAAAADwckAAAAAAAMBwQAAAAAAAsHBAAAAAAADgaEAAAAAAAEBqQAAAAAAAUHFAAAAAAACAaEAAAAAAANBwQAAAAAAAIGlAAAAAAADwcEAAAAAAACBzQAAAAAAA0HBAAAAAAABAZkAAAAAAAHByQAAAAAAAIGpAAAAAAADga0AAAAAAAKBoQAAAAAAAQG5AAAAAAAAAbkAAAAAAAKBiQAAAAAAAYHFAAAAAAACAa0AAAAAAAKBoQAAAAAAAYHVAAAAAAACgbUAAAAAAAGBrQAAAAAAAwGhAAAAAAAAgZEAAAAAAAABkQAAAAAAA4GRAAAAAAABAcEAAAAAAAGBqQAAAAAAAoGVAAAAAAAAwcUAAAAAAAMBmQAAAAAAAQG9AAAAAAAAAZ0AAAAAAAKBuQAAAAAAAYGpAAAAAAADga0AAAAAAACBpQAAAAAAA4GpAAAAAAAAgb0AAAAAAAKBwQAAAAAAAQGdAAAAAAADga0AAAAAAAEBrQAAAAAAAoG1AAAAAAADga0AAAAAAAJByQAAAAAAAwG1AAAAAAAAQcEAAAAAAAOBrQAAAAAAAQHNAAAAAAADga0AAAAAAAMBxQAAAAAAAYGhAAAAAAABgZEAAAAAAAMBvQAAAAAAAYGxAAAAAAADga0AAAAAAAOBrQAAAAAAAIGlAAAAAAADgaUAAAAAAAEBpQAAAAAAAgHRAAAAAAABAaEAAAAAAAMBnQAAAAAAAgGtAAAAAAAAAaUAAAAAAAEBqQAAAAAAA4GtAAAAAAAAAcUAAAAAAAIBmQAAAAAAAQH1AAAAAAAAAa0AAAAAAACBxQAAAAAAAoGtAAAAAAADAbEAAAAAAABBxQAAAAAAAoG9AAAAAAABQc0AAAAAAAMBsQAAAAAAAgHNAAAAAAACAdUAAAAAAAAB0QAAAAAAAoHhAAAAAAABga0AAAAAAAEBzQAAAAAAAsHVAAAAAAACAZ0AAAAAAAGByQAAAAAAAIGhAAAAAAAAAAAAAAAAAAKByQAAAAAAAIHBA",
            "dtype": "f8"
           },
           "yaxis": "y"
          }
         ],
         "name": "0"
        },
        {
         "data": [
          {
           "hovertemplate": "sex=Male<br>num=2<br>age=%{x}<br>chol=%{y}<br>thalch=%{marker.size}<extra></extra>",
           "legendgroup": "Male",
           "marker": {
            "color": "#636efa",
            "size": {
             "bdata": "AAAAAAAAW0AAAAAAAGBiQAAAAAAAwGFAAAAAAAAAZEAAAAAAACBjQAAAAAAAQFxAAAAAAADAYUAAAAAAAIBhQAAAAAAAwGFAAAAAAABAZEAAAAAAAIBhQAAAAAAAwF9AAAAAAABAZUAAAAAAAABeQAAAAAAAQGJAAAAAAACAYEAAAAAAAMBZQAAAAAAAIGJAAAAAAADAUUAAAAAAAIBjQAAAAAAAQF9AAAAAAACAY0AAAAAAAMBgQAAAAAAAAF5AAAAAAADgYUAAAAAAACBkQAAAAAAAAGJAAAAAAAAAYkAAAAAAAKBhQAAAAAAAwGJAAAAAAAAAYkAAAAAAAABmQAAAAAAAwFhAAAAAAACAYUAAAAAAAKBiQAAAAAAAAGBAAAAAAABAZUAAAAAAAABOQAAAAAAAgF9AAAAAAAAAXkAAAAAAAABgQAAAAAAAgF5AAAAAAACAVEAAAAAAAOBgQAAAAAAAYGNAAAAAAADAVEAAAAAAAIBYQAAAAAAAwFhAAAAAAAAAWUAAAAAAAIBiQAAAAAAAAF5AAAAAAACAWEAAAAAAAMBcQAAAAAAAQF1AAAAAAAAgYkAAAAAAAABgQAAAAAAAoGJAAAAAAABAX0AAAAAAAABcQAAAAAAAgGFAAAAAAAAAX0AAAAAAAIBmQAAAAAAAIGBAAAAAAACAYUAAAAAAAIBbQAAAAAAAgGFAAAAAAAAAVUAAAAAAAABgQAAAAAAAQFhAAAAAAABAYEAAAAAAAIBhQAAAAAAAAFtAAAAAAACAW0AAAAAAAIBdQAAAAAAAAGJAAAAAAAAgYkAAAAAAAIBbQAAAAAAAgGJAAAAAAABAYEAAAAAAAEBgQAAAAAAAQGFAAAAAAACAWUAAAAAAAIBhQAAAAAAAgGFAAAAAAAAgYEAAAAAAAIBdQAAAAAAAgGFAAAAAAADAXUAAAAAAAIBhQAAAAAAA4GBAAAAAAABAYEAAAAAAAIBhQAAAAAAAAFVAAAAAAACAYUAAAAAAAEBgQAAAAAAAgF1AAAAAAAAAXEAAAAAAAIBfQAAAAAAAAFlA",
             "dtype": "f8"
            },
            "sizemode": "area",
            "sizeref": 0.505,
            "symbol": "circle"
           },
           "mode": "markers",
           "name": "Male",
           "orientation": "v",
           "showlegend": true,
           "type": "scatter",
           "x": {
            "bdata": "Qz84PCw2PDs7Oz1BPEJFQjg9QzoqNDsuOT0sP0QmKCkqKy8wMzMzNDQ0NDU2Nzg4ODg5OTs9PT4/Qz88OjRFMzQ8Pzs+RDU9OkU5MTw9Qz4/Nz8+Rjo6OEVASEVFQEA6Si43",
            "dtype": "i1"
           },
           "xaxis": "x",
           "y": {
            "bdata": "AAAAAADgcUAAAAAAAMBvQAAAAAAAAHBAAAAAAADAbEAAAAAAACByQAAAAAAAgGdAAAAAAACgcUAAAAAAAGB0QAAAAAAA4G1AAAAAAAAgZkAAAAAAAEBwQAAAAAAAwG9AAAAAAABQckAAAAAAAMBuQAAAAAAAwG9AAAAAAACAakAAAAAAALBxQAAAAAAAQG1AAAAAAACgbUAAAAAAAEBtQAAAAAAAsHNAAAAAAACAaUAAAAAAAEBrQAAAAAAAcHNAAAAAAADwdEAAAAAAAGBpQAAAAAAAIGVAAAAAAABgZ0AAAAAAACBoQAAAAAAAAAAAAAAAAAAAAAAAAAAAAAAAAAAAAAAAAAAAAAAAAAAAAAAAAAAAAAAAAAAAAAAAAAAAAAAAAAAAAAAAAAAAAAAAAAAAAAAAAAAAAAAAAAAAAAAAAAAAAAAAAAAAAAAAAAAAAAAAAAAAAAAAAAAAAAAAAAAAAAAAAAAAAAAAAAAAAAAAAAAAAAAAAAAAAAAAAAAAAAAAAAAAAAAAAAAAAAAAAAAAAAAAAAAAAAAAAAAAAAAAAAAAAAAAAAAAAAAAAAAAAAAAAAAAAAAAAAAAAAAAAAAAAAAAAAAAAAAAAAAAAAAAAAAAAEBwQAAAAAAAQGtAAAAAAAAAAAAAAAAAAAAAAAAAAAAAAAAAAAAAAAAAAAAAAAAAAAAAAAAAAAAAkHFAAAAAAAAAAAAAAAAAAAAAAAAAAAAAIGNAAAAAAAAAAAAAAAAAAAAAAAAAAAAAAAAAAAAAAAAAAAAAAAAAAAAAAAAAAAAAwGpAAAAAAAAAAAAAAAAAAABrQAAAAAAAIG5AAAAAAAAAeEAAAAAAAJByQAAAAAAAQHNAAAAAAABAZ0AAAAAAAIBvQAAAAAAAAAAAAAAAAAAAaEAAAAAAAGBrQAAAAAAAAG1AAAAAAADga0AAAAAAAOBrQAAAAAAAIGhAAAAAAADga0AAAAAAAEBqQAAAAAAAAGtAAAAAAACAbkAAAAAAACBwQAAAAAAAYGtAAAAAAABgc0AAAAAAAGBzQAAAAAAA4GtA",
            "dtype": "f8"
           },
           "yaxis": "y"
          },
          {
           "hovertemplate": "sex=Female<br>num=2<br>age=%{x}<br>chol=%{y}<br>thalch=%{marker.size}<extra></extra>",
           "legendgroup": "Female",
           "marker": {
            "color": "#EF553B",
            "size": {
             "bdata": "AAAAAADAYUAAAAAAAABhQAAAAAAAQFhAAAAAAADAYkAAAAAAAIBaQAAAAAAAQF1AAAAAAABAYkAAAAAAAMBkQAAAAAAAwF9AAAAAAADgYUA=",
             "dtype": "f8"
            },
            "sizemode": "area",
            "sizeref": 0.505,
            "symbol": "circle"
           },
           "mode": "markers",
           "name": "Female",
           "orientation": "v",
           "showlegend": true,
           "type": "scatter",
           "x": {
            "bdata": "Mys+OD43OiYzPg==",
            "dtype": "i1"
           },
           "xaxis": "x",
           "y": {
            "bdata": "AAAAAAAQc0AAAAAAAFB1QAAAAAAAcHBAAAAAAACQeUAAAAAAAGByQAAAAAAAcHRAAAAAAAAgbEAAAAAAAAAAAAAAAAAAAAAAAAAAAAAAAAA=",
            "dtype": "f8"
           },
           "yaxis": "y"
          }
         ],
         "name": "2"
        },
        {
         "data": [
          {
           "hovertemplate": "sex=Male<br>num=1<br>age=%{x}<br>chol=%{y}<br>thalch=%{marker.size}<extra></extra>",
           "legendgroup": "Male",
           "marker": {
            "color": "#636efa",
            "size": {
             "bdata": "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",
             "dtype": "f8"
            },
            "sizemode": "area",
            "sizeref": 0.505,
            "symbol": "circle"
           },
           "mode": "markers",
           "name": "Male",
           "orientation": "v",
           "showlegend": true,
           "type": "scatter",
           "x": {
            "bdata": "QzUwOkA5PDYyKTo8Lj5BLDw0OThBIztAL0YzOiM5ODYrOzQxLi86OSg9OzlDLR8iIyQlJiYmKCkpKy4uLi8vMDAwMTEyNDY2Nzk6PD9BICYnKy0uLjAwMDAyNDQ1NjY2NjY3ODk6OikrLCwuMTEzNDQ0NDU1Njc3Nzg4Ojs7QUIpKywvMTEyMjQ0OEEgIiQmJiouLi8vMjM1NTU2Nzg4OTk6Ojs7Ozw8PD09PT4+Pz9AQURFRko3PDs+PzkuQDw4Oig7NzU7OTpBP0s+Nzo+K0QwPzI7SDI4Nj4wQjcmNzgzOTVKPDk3OD0+Pg==",
            "dtype": "i1"
           },
           "xaxis": "x",
           "y": {
            "bdata": "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",
            "dtype": "f8"
           },
           "yaxis": "y"
          },
          {
           "hovertemplate": "sex=Female<br>num=1<br>age=%{x}<br>chol=%{y}<br>thalch=%{marker.size}<extra></extra>",
           "legendgroup": "Female",
           "marker": {
            "color": "#EF553B",
            "size": {
             "bdata": "AAAAAAAgZUAAAAAAAEBiQAAAAAAA4GFAAAAAAAAgZEAAAAAAAEBjQAAAAAAAIGVAAAAAAAAAYUAAAAAAAMBeQAAAAAAAwGVAAAAAAADAYkAAAAAAAIBjQAAAAAAAgGFAAAAAAADAYkAAAAAAAEBgQAAAAAAAQGBAAAAAAABAZUAAAAAAAABbQAAAAAAAwGJAAAAAAACAWEAAAAAAAABZQAAAAAAAgFtAAAAAAACAY0AAAAAAAIBbQAAAAAAAwF5AAAAAAAAgYkAAAAAAAIBWQAAAAAAAQF5AAAAAAACAYUAAAAAAAEBaQAAAAAAAQGNA",
             "dtype": "f8"
            },
            "sizemode": "area",
            "sizeref": 0.505,
            "symbol": "circle"
           },
           "mode": "markers",
           "name": "Female",
           "orientation": "v",
           "showlegend": true,
           "type": "scatter",
           "x": {
            "bdata": "PT07PD4/Pzk5ITEyMzsoLzA4LzY6JjI+QEJJQDY2",
            "dtype": "i1"
           },
           "xaxis": "x",
           "y": {
            "bdata": "AAAAAACgdEAAAAAAADBzQAAAAAAAIG9AAAAAAAAQc0AAAAAAAIBuQAAAAAAA0HBAAAAAAACgaEAAAAAAACBuQAAAAAAAgG1AAAAAAADAbkAAAAAAAIBmQAAAAAAAAHJAAAAAAADwckAAAAAAACB1QAAAAAAAgHhAAAAAAAAAb0AAAAAAAMBqQAAAAAAAcHFAAAAAAACgaUAAAAAAAGByQAAAAAAAkHhAAAAAAAAAAAAAAAAAAAAAAAAAAAAAAAAAAAAAAAAAAAAAAAAAAAAAAAAAAAAAAAAAAAAAAABAcUAAAAAAACBxQAAAAAAA0HRA",
            "dtype": "f8"
           },
           "yaxis": "y"
          }
         ],
         "name": "1"
        },
        {
         "data": [
          {
           "hovertemplate": "sex=Male<br>num=3<br>age=%{x}<br>chol=%{y}<br>thalch=%{marker.size}<extra></extra>",
           "legendgroup": "Male",
           "marker": {
            "color": "#636efa",
            "size": {
             "bdata": "AAAAAACgZUAAAAAAAIBcQAAAAAAAAF5AAAAAAACAYEAAAAAAAGBkQAAAAAAAwFtAAAAAAADAYkAAAAAAAGBhQAAAAAAAgGFAAAAAAACAYEAAAAAAAMBiQAAAAAAAwFtAAAAAAACAX0AAAAAAAMBZQAAAAAAAAFhAAAAAAAAAXEAAAAAAAMBkQAAAAAAAgF5AAAAAAABAX0AAAAAAAGBiQAAAAAAAQGBAAAAAAACAX0AAAAAAAMBXQAAAAAAAAFtAAAAAAAAAXUAAAAAAAABlQAAAAAAAgFZAAAAAAADAXEAAAAAAAEBgQAAAAAAAgF5AAAAAAACAXUAAAAAAAABeQAAAAAAAgGNAAAAAAAAAWkAAAAAAAMBXQAAAAAAAgFtAAAAAAADAWUAAAAAAAGBgQAAAAAAAAFlAAAAAAACAV0AAAAAAAIBbQAAAAAAAgE9AAAAAAADAWEAAAAAAAIBRQAAAAAAAQFpAAAAAAADAXEAAAAAAAEBTQAAAAAAAAFJAAAAAAACAU0AAAAAAAIBVQAAAAAAAQGNAAAAAAADAUEAAAAAAAIBeQAAAAAAAAFtAAAAAAAAAXkAAAAAAAIBhQAAAAAAAoGNAAAAAAABAWkAAAAAAAKBhQAAAAAAAwFtAAAAAAACAYUAAAAAAAIBhQAAAAAAAgFtAAAAAAABAWkAAAAAAAGBjQAAAAAAAgF5AAAAAAAAAVEAAAAAAAIBVQAAAAAAAgGFAAAAAAABAX0AAAAAAAIBhQAAAAAAAgFlAAAAAAACAYUAAAAAAAIBhQAAAAAAAAFxAAAAAAADAYkAAAAAAAABWQAAAAAAAAF5AAAAAAADgYEAAAAAAAIBhQAAAAAAAgGFAAAAAAACAYUAAAAAAAOBgQAAAAAAAQGBAAAAAAAAAWUAAAAAAAEBSQAAAAAAAgGFAAAAAAACAYUAAAAAAAABkQAAAAAAAgGFAAAAAAADAXEAAAAAAAIBhQAAAAAAAwF1AAAAAAACAYUAAAAAAAOBjQAAAAAAAgF5AAAAAAABAXEAAAAAAAIBYQAAAAAAAAGBA",
             "dtype": "f8"
            },
            "sizemode": "area",
            "sizeref": 0.505,
            "symbol": "circle"
           },
           "mode": "markers",
           "name": "Male",
           "orientation": "v",
           "showlegend": true,
           "type": "scatter",
           "x": {
            "bdata": "OigrN0M6RDEnPzA3Nj5ARjAzQy06MjU2NjQ7OSMrLzIyMzU2ODk5Ozw8PD09PT0+Pj8/QUFCREVGQTw/NzZNPzdAPT08QzZIM0VLQz9BPUExQDtKPTdHSjk9R0M5RTBDOj01",
            "dtype": "i1"
           },
           "xaxis": "x",
           "y": {
            "bdata": "AAAAAAAAbEAAAAAAAOBkQAAAAAAAIGZAAAAAAAAQdkAAAAAAAMBvQAAAAAAA4HBAAAAAAAAgcUAAAAAAAIBnQAAAAAAAYGtAAAAAAACgdEAAAAAAAABwQAAAAAAAIGtAAAAAAADgbUAAAAAAAJBxQAAAAAAAwG5AAAAAAADQcEAAAAAAACBxQAAAAAAAoHJAAAAAAACwckAAAAAAAFBzQAAAAAAAMHBAAAAAAAAAaUAAAAAAAKBxQAAAAAAAwGlAAAAAAADgcUAAAAAAAIBqQAAAAAAAAGZAAAAAAABgYEAAAAAAAAAAAAAAAAAAAAAAAAAAAAAAAAAAAAAAAAAAAAAAAAAAAAAAAAAAAAAAAAAAAAAAAAAAAAAAAAAAAAAAAAAAAAAAAAAAAAAAAAAAAAAAAAAAAAAAAAAAAAAAAAAAAAAAAAAAAAAAAAAAAAAAAAAAAAAAAAAAAAAAAAAAAAAAAAAAAAAAAAAAAAAAAAAAAAAAAAAAAAAAAAAAAAAAAAAAAAAAAAAAAAAAAAAAAAAAAAAAAAAAAAAAAAAAAAAAAAAAAAAAAAAAAAAAAAAAAAAAAAAAAAAAAAAAAAAAAAAAAAAAAAAAAAAAAACAbUAAAAAAAAAAAAAAAAAAAAAAAAAAAACAbEAAAAAAAAAAAAAAAAAAYGVAAAAAAADAbEAAAAAAAAAAAAAAAAAAAAAAAAAAAAAAAAAAAAAAAAAAAAAAAAAAwHNAAAAAAADgcEAAAAAAAIBrQAAAAAAAwGpAAAAAAAAwdUAAAAAAAABqQAAAAAAAIGxAAAAAAAAAAAAAAAAAALBwQAAAAAAAYG1AAAAAAACgcUAAAAAAAIBzQAAAAAAAwGFAAAAAAAAgc0AAAAAAAMBrQAAAAAAAIHBAAAAAAAAAaUAAAAAAAEBwQAAAAAAAoGtAAAAAAAAAa0AAAAAAAOBwQAAAAAAAQHJAAAAAAACga0AAAAAAABB3QAAAAAAAoGVAAAAAAAAQckAAAAAAAOBrQAAAAAAAYGtAAAAAAAAAcEAAAAAAABB1QAAAAAAAwHJA",
            "dtype": "f8"
           },
           "yaxis": "y"
          },
          {
           "hovertemplate": "sex=Female<br>num=3<br>age=%{x}<br>chol=%{y}<br>thalch=%{marker.size}<extra></extra>",
           "legendgroup": "Female",
           "marker": {
            "color": "#EF553B",
            "size": {
             "bdata": "AAAAAAAAZEAAAAAAACBiQAAAAAAAoGNAAAAAAACgYEAAAAAAAKBkQAAAAAAAAGNAAAAAAABAYEAAAAAAAIBhQA==",
             "dtype": "f8"
            },
            "sizemode": "area",
            "sizeref": 0.505,
            "symbol": "circle"
           },
           "mode": "markers",
           "name": "Female",
           "orientation": "v",
           "showlegend": true,
           "type": "scatter",
           "x": {
            "bdata": "Pj48OEI6N0A=",
            "dtype": "i1"
           },
           "xaxis": "x",
           "y": {
            "bdata": "AAAAAADAcEAAAAAAAIBkQAAAAAAAIHBAAAAAAAAAckAAAAAAAIBsQAAAAAAA8HNAAAAAAACgaUAAAAAAAAAAAA==",
            "dtype": "f8"
           },
           "yaxis": "y"
          }
         ],
         "name": "3"
        },
        {
         "data": [
          {
           "hovertemplate": "sex=Male<br>num=4<br>age=%{x}<br>chol=%{y}<br>thalch=%{marker.size}<extra></extra>",
           "legendgroup": "Male",
           "marker": {
            "color": "#636efa",
            "size": {
             "bdata": "AAAAAACAYEAAAAAAAKBkQAAAAAAAAGBAAAAAAABAX0AAAAAAAABfQAAAAAAAIGJAAAAAAABAZEAAAAAAAIBgQAAAAAAAwGZAAAAAAABAX0AAAAAAAIBhQAAAAAAAIGJAAAAAAAAAV0AAAAAAAABeQAAAAAAAAFdAAAAAAAAAWUAAAAAAAABVQAAAAAAAgGFAAAAAAADAXkAAAAAAAIBhQAAAAAAAAF5AAAAAAACAYUAAAAAAAIBZQAAAAAAAAF5AAAAAAADAYkAAAAAAAABbQA==",
             "dtype": "f8"
            },
            "sizemode": "area",
            "sizeref": 0.505,
            "symbol": "circle"
           },
           "mode": "markers",
           "name": "Male",
           "orientation": "v",
           "showlegend": true,
           "type": "scatter",
           "x": {
            "bdata": "PDoyRjk3TUAmPTorMzU3Oj85OEFMOEA+PT4=",
            "dtype": "i1"
           },
           "xaxis": "x",
           "y": {
            "bdata": "AAAAAADAaUAAAAAAAMBsQAAAAAAAYG5AAAAAAADAZUAAAAAAABByQAAAAAAAEHJAAAAAAAAAc0AAAAAAAIBqQAAAAAAA4GxAAAAAAADAZEAAAAAAAOBzQAAAAAAAAAAAAAAAAAAAAAAAAAAAAAAAAAAAAAAAAAAAAAAAAAAAAAAAAAAAACBmQAAAAAAAUHFAAAAAAAAAAAAAAAAAAABvQAAAAAAA4GtAAAAAAAAAakAAAAAAABBxQAAAAAAAQGVAAAAAAADwcUAAAAAAAMBvQA==",
            "dtype": "f8"
           },
           "yaxis": "y"
          },
          {
           "hovertemplate": "sex=Female<br>num=4<br>age=%{x}<br>chol=%{y}<br>thalch=%{marker.size}<extra></extra>",
           "legendgroup": "Female",
           "marker": {
            "color": "#EF553B",
            "size": {
             "bdata": "AAAAAACAXEAAAAAAAEBjQA==",
             "dtype": "f8"
            },
            "sizemode": "area",
            "sizeref": 0.505,
            "symbol": "circle"
           },
           "mode": "markers",
           "name": "Female",
           "orientation": "v",
           "showlegend": true,
           "type": "scatter",
           "x": {
            "bdata": "QT8=",
            "dtype": "i1"
           },
           "xaxis": "x",
           "y": {
            "bdata": "AAAAAAAgbEAAAAAAAHB5QA==",
            "dtype": "f8"
           },
           "yaxis": "y"
          }
         ],
         "name": "4"
        }
       ],
       "layout": {
        "legend": {
         "itemsizing": "constant",
         "title": {
          "text": "sex"
         },
         "tracegroupgap": 0
        },
        "sliders": [
         {
          "active": 0,
          "currentvalue": {
           "prefix": "num="
          },
          "len": 0.9,
          "pad": {
           "b": 10,
           "t": 60
          },
          "steps": [
           {
            "args": [
             [
              "0"
             ],
             {
              "frame": {
               "duration": 0,
               "redraw": false
              },
              "fromcurrent": true,
              "mode": "immediate",
              "transition": {
               "duration": 0,
               "easing": "linear"
              }
             }
            ],
            "label": "0",
            "method": "animate"
           },
           {
            "args": [
             [
              "2"
             ],
             {
              "frame": {
               "duration": 0,
               "redraw": false
              },
              "fromcurrent": true,
              "mode": "immediate",
              "transition": {
               "duration": 0,
               "easing": "linear"
              }
             }
            ],
            "label": "2",
            "method": "animate"
           },
           {
            "args": [
             [
              "1"
             ],
             {
              "frame": {
               "duration": 0,
               "redraw": false
              },
              "fromcurrent": true,
              "mode": "immediate",
              "transition": {
               "duration": 0,
               "easing": "linear"
              }
             }
            ],
            "label": "1",
            "method": "animate"
           },
           {
            "args": [
             [
              "3"
             ],
             {
              "frame": {
               "duration": 0,
               "redraw": false
              },
              "fromcurrent": true,
              "mode": "immediate",
              "transition": {
               "duration": 0,
               "easing": "linear"
              }
             }
            ],
            "label": "3",
            "method": "animate"
           },
           {
            "args": [
             [
              "4"
             ],
             {
              "frame": {
               "duration": 0,
               "redraw": false
              },
              "fromcurrent": true,
              "mode": "immediate",
              "transition": {
               "duration": 0,
               "easing": "linear"
              }
             }
            ],
            "label": "4",
            "method": "animate"
           }
          ],
          "x": 0.1,
          "xanchor": "left",
          "y": 0,
          "yanchor": "top"
         }
        ],
        "template": {
         "data": {
          "bar": [
           {
            "error_x": {
             "color": "#2a3f5f"
            },
            "error_y": {
             "color": "#2a3f5f"
            },
            "marker": {
             "line": {
              "color": "#E5ECF6",
              "width": 0.5
             },
             "pattern": {
              "fillmode": "overlay",
              "size": 10,
              "solidity": 0.2
             }
            },
            "type": "bar"
           }
          ],
          "barpolar": [
           {
            "marker": {
             "line": {
              "color": "#E5ECF6",
              "width": 0.5
             },
             "pattern": {
              "fillmode": "overlay",
              "size": 10,
              "solidity": 0.2
             }
            },
            "type": "barpolar"
           }
          ],
          "carpet": [
           {
            "aaxis": {
             "endlinecolor": "#2a3f5f",
             "gridcolor": "white",
             "linecolor": "white",
             "minorgridcolor": "white",
             "startlinecolor": "#2a3f5f"
            },
            "baxis": {
             "endlinecolor": "#2a3f5f",
             "gridcolor": "white",
             "linecolor": "white",
             "minorgridcolor": "white",
             "startlinecolor": "#2a3f5f"
            },
            "type": "carpet"
           }
          ],
          "choropleth": [
           {
            "colorbar": {
             "outlinewidth": 0,
             "ticks": ""
            },
            "type": "choropleth"
           }
          ],
          "contour": [
           {
            "colorbar": {
             "outlinewidth": 0,
             "ticks": ""
            },
            "colorscale": [
             [
              0,
              "#0d0887"
             ],
             [
              0.1111111111111111,
              "#46039f"
             ],
             [
              0.2222222222222222,
              "#7201a8"
             ],
             [
              0.3333333333333333,
              "#9c179e"
             ],
             [
              0.4444444444444444,
              "#bd3786"
             ],
             [
              0.5555555555555556,
              "#d8576b"
             ],
             [
              0.6666666666666666,
              "#ed7953"
             ],
             [
              0.7777777777777778,
              "#fb9f3a"
             ],
             [
              0.8888888888888888,
              "#fdca26"
             ],
             [
              1,
              "#f0f921"
             ]
            ],
            "type": "contour"
           }
          ],
          "contourcarpet": [
           {
            "colorbar": {
             "outlinewidth": 0,
             "ticks": ""
            },
            "type": "contourcarpet"
           }
          ],
          "heatmap": [
           {
            "colorbar": {
             "outlinewidth": 0,
             "ticks": ""
            },
            "colorscale": [
             [
              0,
              "#0d0887"
             ],
             [
              0.1111111111111111,
              "#46039f"
             ],
             [
              0.2222222222222222,
              "#7201a8"
             ],
             [
              0.3333333333333333,
              "#9c179e"
             ],
             [
              0.4444444444444444,
              "#bd3786"
             ],
             [
              0.5555555555555556,
              "#d8576b"
             ],
             [
              0.6666666666666666,
              "#ed7953"
             ],
             [
              0.7777777777777778,
              "#fb9f3a"
             ],
             [
              0.8888888888888888,
              "#fdca26"
             ],
             [
              1,
              "#f0f921"
             ]
            ],
            "type": "heatmap"
           }
          ],
          "histogram": [
           {
            "marker": {
             "pattern": {
              "fillmode": "overlay",
              "size": 10,
              "solidity": 0.2
             }
            },
            "type": "histogram"
           }
          ],
          "histogram2d": [
           {
            "colorbar": {
             "outlinewidth": 0,
             "ticks": ""
            },
            "colorscale": [
             [
              0,
              "#0d0887"
             ],
             [
              0.1111111111111111,
              "#46039f"
             ],
             [
              0.2222222222222222,
              "#7201a8"
             ],
             [
              0.3333333333333333,
              "#9c179e"
             ],
             [
              0.4444444444444444,
              "#bd3786"
             ],
             [
              0.5555555555555556,
              "#d8576b"
             ],
             [
              0.6666666666666666,
              "#ed7953"
             ],
             [
              0.7777777777777778,
              "#fb9f3a"
             ],
             [
              0.8888888888888888,
              "#fdca26"
             ],
             [
              1,
              "#f0f921"
             ]
            ],
            "type": "histogram2d"
           }
          ],
          "histogram2dcontour": [
           {
            "colorbar": {
             "outlinewidth": 0,
             "ticks": ""
            },
            "colorscale": [
             [
              0,
              "#0d0887"
             ],
             [
              0.1111111111111111,
              "#46039f"
             ],
             [
              0.2222222222222222,
              "#7201a8"
             ],
             [
              0.3333333333333333,
              "#9c179e"
             ],
             [
              0.4444444444444444,
              "#bd3786"
             ],
             [
              0.5555555555555556,
              "#d8576b"
             ],
             [
              0.6666666666666666,
              "#ed7953"
             ],
             [
              0.7777777777777778,
              "#fb9f3a"
             ],
             [
              0.8888888888888888,
              "#fdca26"
             ],
             [
              1,
              "#f0f921"
             ]
            ],
            "type": "histogram2dcontour"
           }
          ],
          "mesh3d": [
           {
            "colorbar": {
             "outlinewidth": 0,
             "ticks": ""
            },
            "type": "mesh3d"
           }
          ],
          "parcoords": [
           {
            "line": {
             "colorbar": {
              "outlinewidth": 0,
              "ticks": ""
             }
            },
            "type": "parcoords"
           }
          ],
          "pie": [
           {
            "automargin": true,
            "type": "pie"
           }
          ],
          "scatter": [
           {
            "fillpattern": {
             "fillmode": "overlay",
             "size": 10,
             "solidity": 0.2
            },
            "type": "scatter"
           }
          ],
          "scatter3d": [
           {
            "line": {
             "colorbar": {
              "outlinewidth": 0,
              "ticks": ""
             }
            },
            "marker": {
             "colorbar": {
              "outlinewidth": 0,
              "ticks": ""
             }
            },
            "type": "scatter3d"
           }
          ],
          "scattercarpet": [
           {
            "marker": {
             "colorbar": {
              "outlinewidth": 0,
              "ticks": ""
             }
            },
            "type": "scattercarpet"
           }
          ],
          "scattergeo": [
           {
            "marker": {
             "colorbar": {
              "outlinewidth": 0,
              "ticks": ""
             }
            },
            "type": "scattergeo"
           }
          ],
          "scattergl": [
           {
            "marker": {
             "colorbar": {
              "outlinewidth": 0,
              "ticks": ""
             }
            },
            "type": "scattergl"
           }
          ],
          "scattermap": [
           {
            "marker": {
             "colorbar": {
              "outlinewidth": 0,
              "ticks": ""
             }
            },
            "type": "scattermap"
           }
          ],
          "scattermapbox": [
           {
            "marker": {
             "colorbar": {
              "outlinewidth": 0,
              "ticks": ""
             }
            },
            "type": "scattermapbox"
           }
          ],
          "scatterpolar": [
           {
            "marker": {
             "colorbar": {
              "outlinewidth": 0,
              "ticks": ""
             }
            },
            "type": "scatterpolar"
           }
          ],
          "scatterpolargl": [
           {
            "marker": {
             "colorbar": {
              "outlinewidth": 0,
              "ticks": ""
             }
            },
            "type": "scatterpolargl"
           }
          ],
          "scatterternary": [
           {
            "marker": {
             "colorbar": {
              "outlinewidth": 0,
              "ticks": ""
             }
            },
            "type": "scatterternary"
           }
          ],
          "surface": [
           {
            "colorbar": {
             "outlinewidth": 0,
             "ticks": ""
            },
            "colorscale": [
             [
              0,
              "#0d0887"
             ],
             [
              0.1111111111111111,
              "#46039f"
             ],
             [
              0.2222222222222222,
              "#7201a8"
             ],
             [
              0.3333333333333333,
              "#9c179e"
             ],
             [
              0.4444444444444444,
              "#bd3786"
             ],
             [
              0.5555555555555556,
              "#d8576b"
             ],
             [
              0.6666666666666666,
              "#ed7953"
             ],
             [
              0.7777777777777778,
              "#fb9f3a"
             ],
             [
              0.8888888888888888,
              "#fdca26"
             ],
             [
              1,
              "#f0f921"
             ]
            ],
            "type": "surface"
           }
          ],
          "table": [
           {
            "cells": {
             "fill": {
              "color": "#EBF0F8"
             },
             "line": {
              "color": "white"
             }
            },
            "header": {
             "fill": {
              "color": "#C8D4E3"
             },
             "line": {
              "color": "white"
             }
            },
            "type": "table"
           }
          ]
         },
         "layout": {
          "annotationdefaults": {
           "arrowcolor": "#2a3f5f",
           "arrowhead": 0,
           "arrowwidth": 1
          },
          "autotypenumbers": "strict",
          "coloraxis": {
           "colorbar": {
            "outlinewidth": 0,
            "ticks": ""
           }
          },
          "colorscale": {
           "diverging": [
            [
             0,
             "#8e0152"
            ],
            [
             0.1,
             "#c51b7d"
            ],
            [
             0.2,
             "#de77ae"
            ],
            [
             0.3,
             "#f1b6da"
            ],
            [
             0.4,
             "#fde0ef"
            ],
            [
             0.5,
             "#f7f7f7"
            ],
            [
             0.6,
             "#e6f5d0"
            ],
            [
             0.7,
             "#b8e186"
            ],
            [
             0.8,
             "#7fbc41"
            ],
            [
             0.9,
             "#4d9221"
            ],
            [
             1,
             "#276419"
            ]
           ],
           "sequential": [
            [
             0,
             "#0d0887"
            ],
            [
             0.1111111111111111,
             "#46039f"
            ],
            [
             0.2222222222222222,
             "#7201a8"
            ],
            [
             0.3333333333333333,
             "#9c179e"
            ],
            [
             0.4444444444444444,
             "#bd3786"
            ],
            [
             0.5555555555555556,
             "#d8576b"
            ],
            [
             0.6666666666666666,
             "#ed7953"
            ],
            [
             0.7777777777777778,
             "#fb9f3a"
            ],
            [
             0.8888888888888888,
             "#fdca26"
            ],
            [
             1,
             "#f0f921"
            ]
           ],
           "sequentialminus": [
            [
             0,
             "#0d0887"
            ],
            [
             0.1111111111111111,
             "#46039f"
            ],
            [
             0.2222222222222222,
             "#7201a8"
            ],
            [
             0.3333333333333333,
             "#9c179e"
            ],
            [
             0.4444444444444444,
             "#bd3786"
            ],
            [
             0.5555555555555556,
             "#d8576b"
            ],
            [
             0.6666666666666666,
             "#ed7953"
            ],
            [
             0.7777777777777778,
             "#fb9f3a"
            ],
            [
             0.8888888888888888,
             "#fdca26"
            ],
            [
             1,
             "#f0f921"
            ]
           ]
          },
          "colorway": [
           "#636efa",
           "#EF553B",
           "#00cc96",
           "#ab63fa",
           "#FFA15A",
           "#19d3f3",
           "#FF6692",
           "#B6E880",
           "#FF97FF",
           "#FECB52"
          ],
          "font": {
           "color": "#2a3f5f"
          },
          "geo": {
           "bgcolor": "white",
           "lakecolor": "white",
           "landcolor": "#E5ECF6",
           "showlakes": true,
           "showland": true,
           "subunitcolor": "white"
          },
          "hoverlabel": {
           "align": "left"
          },
          "hovermode": "closest",
          "mapbox": {
           "style": "light"
          },
          "paper_bgcolor": "white",
          "plot_bgcolor": "#E5ECF6",
          "polar": {
           "angularaxis": {
            "gridcolor": "white",
            "linecolor": "white",
            "ticks": ""
           },
           "bgcolor": "#E5ECF6",
           "radialaxis": {
            "gridcolor": "white",
            "linecolor": "white",
            "ticks": ""
           }
          },
          "scene": {
           "xaxis": {
            "backgroundcolor": "#E5ECF6",
            "gridcolor": "white",
            "gridwidth": 2,
            "linecolor": "white",
            "showbackground": true,
            "ticks": "",
            "zerolinecolor": "white"
           },
           "yaxis": {
            "backgroundcolor": "#E5ECF6",
            "gridcolor": "white",
            "gridwidth": 2,
            "linecolor": "white",
            "showbackground": true,
            "ticks": "",
            "zerolinecolor": "white"
           },
           "zaxis": {
            "backgroundcolor": "#E5ECF6",
            "gridcolor": "white",
            "gridwidth": 2,
            "linecolor": "white",
            "showbackground": true,
            "ticks": "",
            "zerolinecolor": "white"
           }
          },
          "shapedefaults": {
           "line": {
            "color": "#2a3f5f"
           }
          },
          "ternary": {
           "aaxis": {
            "gridcolor": "white",
            "linecolor": "white",
            "ticks": ""
           },
           "baxis": {
            "gridcolor": "white",
            "linecolor": "white",
            "ticks": ""
           },
           "bgcolor": "#E5ECF6",
           "caxis": {
            "gridcolor": "white",
            "linecolor": "white",
            "ticks": ""
           }
          },
          "title": {
           "x": 0.05
          },
          "xaxis": {
           "automargin": true,
           "gridcolor": "white",
           "linecolor": "white",
           "ticks": "",
           "title": {
            "standoff": 15
           },
           "zerolinecolor": "white",
           "zerolinewidth": 2
          },
          "yaxis": {
           "automargin": true,
           "gridcolor": "white",
           "linecolor": "white",
           "ticks": "",
           "title": {
            "standoff": 15
           },
           "zerolinecolor": "white",
           "zerolinewidth": 2
          }
         }
        },
        "title": {
         "text": "Heart Disease Stages "
        },
        "updatemenus": [
         {
          "buttons": [
           {
            "args": [
             null,
             {
              "frame": {
               "duration": 500,
               "redraw": false
              },
              "fromcurrent": true,
              "mode": "immediate",
              "transition": {
               "duration": 500,
               "easing": "linear"
              }
             }
            ],
            "label": "&#9654;",
            "method": "animate"
           },
           {
            "args": [
             [
              null
             ],
             {
              "frame": {
               "duration": 0,
               "redraw": false
              },
              "fromcurrent": true,
              "mode": "immediate",
              "transition": {
               "duration": 0,
               "easing": "linear"
              }
             }
            ],
            "label": "&#9724;",
            "method": "animate"
           }
          ],
          "direction": "left",
          "pad": {
           "r": 10,
           "t": 70
          },
          "showactive": false,
          "type": "buttons",
          "x": 0.1,
          "xanchor": "right",
          "y": 0,
          "yanchor": "top"
         }
        ],
        "xaxis": {
         "anchor": "y",
         "domain": [
          0,
          1
         ],
         "title": {
          "text": "age"
         }
        },
        "yaxis": {
         "anchor": "x",
         "domain": [
          0,
          1
         ],
         "title": {
          "text": "chol"
         }
        }
       }
      }
     },
     "metadata": {},
     "output_type": "display_data"
    }
   ],
   "source": [
    "\n",
    "df_plot = df.dropna(subset=[\"thalch\"])\n",
    "fig = px.scatter(\n",
    "    df_plot, \n",
    "    x=\"age\", \n",
    "    y=\"chol\", \n",
    "    color=\"sex\",         # color by sex (male/female)\n",
    "    size=\"thalch\",       # size = max heart rate\n",
    "    animation_frame=\"num\",  # moving frames = disease stage\n",
    "    title=\"Heart Disease Stages \"\n",
    ")\n",
    "\n",
    "fig.show()\n"
   ]
  },
  {
   "cell_type": "code",
   "execution_count": 35,
   "id": "8a6b7a33",
   "metadata": {},
   "outputs": [],
   "source": [
    "ohe = preprocessor.named_transformers_['cat']   # the OneHotEncoder inside ColumnTransformer\n",
    "ohe_feature_names = ohe.get_feature_names_out(categorical_cols)"
   ]
  },
  {
   "cell_type": "code",
   "execution_count": 37,
   "id": "3ad4563c",
   "metadata": {},
   "outputs": [],
   "source": [
    "all_feature_names = list(numerical_cols) + list(ohe_feature_names)\n",
    "X1_df = pd.DataFrame(X1.toarray() if hasattr(X1, \"toarray\") else X1, \n",
    "                     columns=all_feature_names)"
   ]
  },
  {
   "cell_type": "code",
   "execution_count": 38,
   "id": "12c73d21",
   "metadata": {},
   "outputs": [],
   "source": [
    "X1_df[\"target\"] = y.values"
   ]
  },
  {
   "cell_type": "code",
   "execution_count": 40,
   "id": "a052d459",
   "metadata": {},
   "outputs": [],
   "source": [
    "X1_df.to_csv(\"cleaned_scaled.csv\", index=False)"
   ]
  }
 ],
 "metadata": {
  "kernelspec": {
   "display_name": "Python (ml_env)",
   "language": "python",
   "name": "ml_env"
  },
  "language_info": {
   "codemirror_mode": {
    "name": "ipython",
    "version": 3
   },
   "file_extension": ".py",
   "mimetype": "text/x-python",
   "name": "python",
   "nbconvert_exporter": "python",
   "pygments_lexer": "ipython3",
   "version": "3.13.2"
  }
 },
 "nbformat": 4,
 "nbformat_minor": 5
}
